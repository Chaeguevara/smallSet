{
 "cells": [
  {
   "cell_type": "code",
   "execution_count": 23,
   "metadata": {
    "Collapsed": "false"
   },
   "outputs": [],
   "source": [
    "%matplotlib inline\n",
    "from utility import *"
   ]
  },
  {
   "cell_type": "markdown",
   "metadata": {
    "Collapsed": "false"
   },
   "source": [
    "# Models"
   ]
  },
  {
   "cell_type": "markdown",
   "metadata": {
    "Collapsed": "false"
   },
   "source": [
    "In this section, we'll use the features we created in the previous section, along with IDF-weighted embeddings and try them on different models. \n",
    "\n",
    "As mentioned earlier, when dealing with small datasets, low-complexity models like Logistic Regression, SVMs and Naive Bayes will generalize the best. We'll try these models along with non-parameteric models like KNN and non-linear models like Random Forest, XGBoost etc. \n",
    "\n",
    "We'll also try bootstrap-aggregating or bagging with the best-performing classifier along with stacking using VotingClassifer. Let's get started!"
   ]
  },
  {
   "cell_type": "code",
   "execution_count": 24,
   "metadata": {
    "Collapsed": "false"
   },
   "outputs": [],
   "source": [
    "from featurization import *\n",
    "import pandas as pd \n",
    "import numpy as np\n",
    "\n",
    "EMB='bert'"
   ]
  },
  {
   "cell_type": "code",
   "execution_count": 25,
   "metadata": {
    "Collapsed": "false"
   },
   "outputs": [
    {
     "name": "stdout",
     "output_type": "stream",
     "text": [
      "{0: 0, 2: 1, 5: 2, 6: 3, 8: 4, 11: 5, 13: 6, 14: 7, 15: 8, 16: 9, 18: 10, 19: 11, 21: 12, 27: 13, 28: 14, 39: 15, 46: 16, 50: 17, 53: 18}\n",
      "{0: 0, 1: 2, 2: 5, 3: 6, 4: 8, 5: 11, 6: 13, 7: 14, 8: 15, 9: 16, 10: 18, 11: 19, 12: 21, 13: 27, 14: 28, 15: 39, 16: 46, 17: 50, 18: 53}\n",
      "(93,)\n",
      "(79,)\n",
      "(93, 4096)\n",
      "(79, 4096)\n"
     ]
    }
   ],
   "source": [
    "train = pd.read_csv('../datasets/train.csv')\n",
    "test = pd.read_csv('../datasets/test.csv')\n",
    "label_list= sorted(list(set(test.label.values)))\n",
    "lbl_to_idx = {item:i for i,item in enumerate(label_list)}\n",
    "idx_to_lbl = {i:item for i,item in enumerate(label_list)}\n",
    "print(lbl_to_idx)\n",
    "print(idx_to_lbl)\n",
    "y_train = train.label\n",
    "y_test = test.label\n",
    "print(y_train.shape)\n",
    "print(y_test.shape)\n",
    "len(set(y_train.values))\n",
    "train_features = np.genfromtxt(\"../datasets/train_feature_infersent.csv\", delimiter=\",\")\n",
    "test_features = np.genfromtxt(\"../datasets/test_feature_infersent.csv\",delimiter=\",\")\n",
    "print(train_features.shape)\n",
    "print(test_features.shape)"
   ]
  },
  {
   "cell_type": "markdown",
   "metadata": {
    "Collapsed": "false"
   },
   "source": [
    "GridSearchCV HelperFunction"
   ]
  },
  {
   "cell_type": "code",
   "execution_count": 26,
   "metadata": {
    "Collapsed": "false"
   },
   "outputs": [],
   "source": [
    "from sklearn.model_selection import GridSearchCV, PredefinedSplit\n",
    "from sklearn.metrics import make_scorer, accuracy_score\n",
    "from scipy import sparse\n",
    "\n",
    "\n",
    "def warn(*args, **kwargs):\n",
    "    pass\n",
    "import warnings\n",
    "warnings.warn = warn\n",
    "\n",
    "\n",
    "def adjusted_f1(y_true, y_prob):\n",
    "    f1 = print_model_metrics(y_true, y_prob, verbose = 0, return_metrics = True)\n",
    "    return f1\n",
    "\n",
    "score = make_scorer(adjusted_f1, greater_is_better = True, needs_proba = True)\n",
    "\n",
    "\n",
    "\n",
    "# Since we want to use a predefined Test/Val set, we'll use PredefinedSplit and pass it as the CV parameter\n",
    "# We need to merge both the datasets and label 0 for test and -1 for the train set\n",
    "\n",
    "\n",
    "def run_grid_search(model, params, x_train, y_train):\n",
    "    grid = GridSearchCV(model, params, cv = 3, n_jobs = -1, scoring = score, verbose = 0, refit = False)\n",
    "    grid.fit(x_train, y_train)\n",
    "    return (grid.best_params_, grid.best_score_)"
   ]
  },
  {
   "cell_type": "code",
   "execution_count": 27,
   "metadata": {},
   "outputs": [],
   "source": [
    "# Run log reg n times and average the metrics\n",
    "def fit_n_times(model, x_train, y_train, x_test, y_test, label_list, n_iters = 10):\n",
    "    model.fit(x_train, y_train)\n",
    "    y_test_prob = model.predict_proba(x_test)\n",
    "    y_pred = model.predict(x_test)\n",
    "    print(\"roc\")\n",
    "    print(roc_auc_score(y_test,y_test_prob,labels = label_list,multi_class='ovr',average=\"weighted\"))\n",
    "    print(\"f1\")\n",
    "    print(f1_score(y_test,y_pred,labels=label_list,average=\"weighted\"))\n",
    "    print(\"acc\")\n",
    "    print(accuracy_score(y_test,y_pred))"
   ]
  },
  {
   "cell_type": "markdown",
   "metadata": {
    "Collapsed": "false"
   },
   "source": [
    "## SVM"
   ]
  },
  {
   "cell_type": "code",
   "execution_count": 29,
   "metadata": {
    "Collapsed": "false"
   },
   "outputs": [
    {
     "name": "stdout",
     "output_type": "stream",
     "text": [
      "roc\n",
      "0.9659735780573941\n",
      "f1\n",
      "0.6952959487769614\n",
      "acc\n",
      "0.6962025316455697\n"
     ]
    }
   ],
   "source": [
    "from sklearn.svm import SVC\n",
    "\n",
    "svm = SVC(probability = True)\n",
    "#svm_params = {'C' : [10**(x) for x in range(-1,4)],\n",
    "#             'kernel' : ['poly', 'rbf', 'linear'],\n",
    "#             'degree' : [2, 3]}\n",
    "#clf = GridSearchCV(svm, svm_params)\n",
    "#clf.fit(train_features, y_train)\n",
    "#best_params, best_f1 = clf.best_params_, clf.best_score_\n",
    "\n",
    "#print('Best Parameters : {}'.format(best_params))\n",
    "#print('Best F1 : {}'.format(best_f1))\n",
    "best_params = {'C': 10, 'degree': 2, 'kernel': 'poly'}\n",
    "svm = SVC(C = best_params['C'], kernel = best_params['kernel'], degree = best_params['degree'], probability = True)\n",
    "fit_n_times(svm, train_features, y_train, test_features, y_test, label_list)"
   ]
  },
  {
   "cell_type": "markdown",
   "metadata": {
    "Collapsed": "false"
   },
   "source": [
    "## Naive Bayes"
   ]
  },
  {
   "cell_type": "code",
   "execution_count": 30,
   "metadata": {
    "Collapsed": "false",
    "scrolled": true
   },
   "outputs": [],
   "source": [
    "from sklearn.naive_bayes import MultinomialNB\n",
    "\n",
    "nb = MultinomialNB(class_prior = [0.5, 0.5])\n",
    "\n",
    "print('Best Parameters : {}'.format(best_params))\n",
    "print('Best F1 : {}'.format(best_f1))\n",
    "\n",
    "nb = MultinomialNB(alpha = best_params['alpha'])\n",
    "\n",
    "fit_n_times(nb, train_features, y_train, test_features, y_test)\n",
    "# Negative values in data passed to MultinomialNB (input X)"
   ]
  },
  {
   "cell_type": "markdown",
   "metadata": {
    "Collapsed": "false"
   },
   "source": [
    "## Random Forest"
   ]
  },
  {
   "cell_type": "code",
   "execution_count": 31,
   "metadata": {
    "Collapsed": "false"
   },
   "outputs": [
    {
     "name": "stdout",
     "output_type": "stream",
     "text": [
      "Best Parameters : {'max_depth': 15, 'min_samples_split': 5, 'n_estimators': 500}\n",
      "roc\n",
      "0.9800551863774555\n",
      "f1\n",
      "0.7366120203090958\n",
      "acc\n",
      "0.759493670886076\n"
     ]
    }
   ],
   "source": [
    "from sklearn.ensemble import RandomForestClassifier\n",
    "\n",
    "rf = RandomForestClassifier(n_jobs = -1)\n",
    "\n",
    "print('Best Parameters : {}'.format(best_params))\n",
    "rf = RandomForestClassifier(n_estimators = best_params['n_estimators'],\n",
    "                            min_samples_split = best_params['min_samples_split'],\n",
    "                            max_depth = best_params['max_depth'], \n",
    "                            n_jobs = -1)\n",
    "fit_n_times(rf, train_features, y_train, test_features, y_test,label_list)"
   ]
  },
  {
   "cell_type": "markdown",
   "metadata": {
    "Collapsed": "false"
   },
   "source": [
    "## XGBoost"
   ]
  },
  {
   "cell_type": "code",
   "execution_count": 32,
   "metadata": {
    "Collapsed": "false"
   },
   "outputs": [
    {
     "name": "stdout",
     "output_type": "stream",
     "text": [
      "19 19\n",
      "Best Parameters : {'learning_rate': 0.2, 'max_depth': 1, 'n_estimators': 100, 'reg_alpha': 0.1}\n",
      "roc\n",
      "0.9532990180542041\n",
      "f1\n",
      "0.7199935086011036\n",
      "acc\n",
      "0.759493670886076\n",
      "(93,)\n",
      "(79,)\n",
      "(93, 4096)\n",
      "(79, 4096)\n"
     ]
    }
   ],
   "source": [
    "from xgboost import XGBClassifier\n",
    "\n",
    "xgb = XGBClassifier(n_jobs = -1)\n",
    "\n",
    "xgb_params = { 'n_estimators' : [10, 100, 200, 500], \n",
    "               'max_depth' : [1, 2, 3, 7],\n",
    "               'learning_rate' : [0.1, 0.2, 0.01, 0.3],\n",
    "               'reg_alpha' : [0, 0.1, 0.2]\n",
    "}\n",
    "y_train = [lbl_to_idx[item] for item in y_train]\n",
    "y_test = [lbl_to_idx[item] for item in y_test]\n",
    "label_list = [lbl_to_idx[item] for item in label_list]\n",
    "print(len(set(y_train)),len(set(y_test)))\n",
    "#clf = GridSearchCV(xgb, xgb_params)\n",
    "#clf.fit(train_features, y_train)\n",
    "#best_params, best_f1 = clf.best_params_, clf.best_score_\n",
    "best_params= {'learning_rate': 0.2, 'max_depth': 1, 'n_estimators': 100, 'reg_alpha': 0.1}\n",
    "\n",
    "print('Best Parameters : {}'.format(best_params))\n",
    "xgb = XGBClassifier(n_estimators = best_params['n_estimators'],\n",
    "                            learning_rate = best_params['learning_rate'],\n",
    "                            max_depth = best_params['max_depth'], \n",
    "                            reg_alpha = best_params['reg_alpha'], \n",
    "                            n_jobs = -1)\n",
    "fit_n_times(xgb, train_features, y_train, test_features, y_test,label_list)\n",
    "\n",
    "label_list = [idx_to_lbl[item] for item in label_list]\n",
    "y_train = np.asarray(y_train).astype('float32').reshape((-1,1)).ravel()\n",
    "y_test = np.asarray(y_test).astype('float32').reshape((-1,1)).ravel()\n",
    "print(y_train.ravel().shape)\n",
    "\n",
    "print(y_test.shape)\n",
    "print(train_features.shape)\n",
    "print(test_features.shape)"
   ]
  },
  {
   "cell_type": "markdown",
   "metadata": {
    "Collapsed": "false"
   },
   "source": [
    "## DL Tabular Data"
   ]
  },
  {
   "cell_type": "code",
   "execution_count": 33,
   "metadata": {
    "Collapsed": "false"
   },
   "outputs": [
    {
     "name": "stdout",
     "output_type": "stream",
     "text": [
      "Model: \"sequential_2\"\n",
      "_________________________________________________________________\n",
      " Layer (type)                Output Shape              Param #   \n",
      "=================================================================\n",
      " flatten_2 (Flatten)         (None, 4096)              0         \n",
      "                                                                 \n",
      " dense_4 (Dense)             (None, 100)               409700    \n",
      "                                                                 \n",
      " dropout_2 (Dropout)         (None, 100)               0         \n",
      "                                                                 \n",
      " dense_5 (Dense)             (None, 19)                1919      \n",
      "                                                                 \n",
      "=================================================================\n",
      "Total params: 411,619\n",
      "Trainable params: 411,619\n",
      "Non-trainable params: 0\n",
      "_________________________________________________________________\n",
      "Epoch 1/40\n",
      "3/3 [==============================] - 0s 3ms/step - loss: 2.9172 - accuracy: 0.1075\n",
      "Epoch 2/40\n",
      "3/3 [==============================] - 0s 4ms/step - loss: 2.7441 - accuracy: 0.1720\n",
      "Epoch 3/40\n",
      "3/3 [==============================] - 0s 3ms/step - loss: 2.6188 - accuracy: 0.1720\n",
      "Epoch 4/40\n",
      "3/3 [==============================] - 0s 3ms/step - loss: 2.5245 - accuracy: 0.1720\n",
      "Epoch 5/40\n",
      "3/3 [==============================] - 0s 3ms/step - loss: 2.3801 - accuracy: 0.2258\n",
      "Epoch 6/40\n",
      "3/3 [==============================] - 0s 3ms/step - loss: 2.2346 - accuracy: 0.2688\n",
      "Epoch 7/40\n",
      "3/3 [==============================] - 0s 3ms/step - loss: 2.1802 - accuracy: 0.2581\n",
      "Epoch 8/40\n",
      "3/3 [==============================] - 0s 3ms/step - loss: 2.0115 - accuracy: 0.3763\n",
      "Epoch 9/40\n",
      "3/3 [==============================] - 0s 2ms/step - loss: 1.9023 - accuracy: 0.5376\n",
      "Epoch 10/40\n",
      "3/3 [==============================] - 0s 3ms/step - loss: 1.8069 - accuracy: 0.5914\n",
      "Epoch 11/40\n",
      "3/3 [==============================] - 0s 3ms/step - loss: 1.7264 - accuracy: 0.6774\n",
      "Epoch 12/40\n",
      "3/3 [==============================] - 0s 3ms/step - loss: 1.6227 - accuracy: 0.6344\n",
      "Epoch 13/40\n",
      "3/3 [==============================] - 0s 2ms/step - loss: 1.6009 - accuracy: 0.6667\n",
      "Epoch 14/40\n",
      "3/3 [==============================] - 0s 3ms/step - loss: 1.4885 - accuracy: 0.6667\n",
      "Epoch 15/40\n",
      "3/3 [==============================] - 0s 2ms/step - loss: 1.3614 - accuracy: 0.7419\n",
      "Epoch 16/40\n",
      "3/3 [==============================] - 0s 3ms/step - loss: 1.3336 - accuracy: 0.7849\n",
      "Epoch 17/40\n",
      "3/3 [==============================] - 0s 3ms/step - loss: 1.2357 - accuracy: 0.8602\n",
      "Epoch 18/40\n",
      "3/3 [==============================] - 0s 2ms/step - loss: 1.2076 - accuracy: 0.7527\n",
      "Epoch 19/40\n",
      "3/3 [==============================] - 0s 3ms/step - loss: 1.0946 - accuracy: 0.8495\n",
      "Epoch 20/40\n",
      "3/3 [==============================] - 0s 3ms/step - loss: 1.0991 - accuracy: 0.8065\n",
      "Epoch 21/40\n",
      "3/3 [==============================] - 0s 2ms/step - loss: 1.0109 - accuracy: 0.8495\n",
      "Epoch 22/40\n",
      "3/3 [==============================] - 0s 2ms/step - loss: 0.9848 - accuracy: 0.8710\n",
      "Epoch 23/40\n",
      "3/3 [==============================] - 0s 3ms/step - loss: 0.8900 - accuracy: 0.8387\n",
      "Epoch 24/40\n",
      "3/3 [==============================] - 0s 2ms/step - loss: 0.8594 - accuracy: 0.8925\n",
      "Epoch 25/40\n",
      "3/3 [==============================] - 0s 2ms/step - loss: 0.7274 - accuracy: 0.9355\n",
      "Epoch 26/40\n",
      "3/3 [==============================] - 0s 3ms/step - loss: 0.7733 - accuracy: 0.9355\n",
      "Epoch 27/40\n",
      "3/3 [==============================] - 0s 3ms/step - loss: 0.7431 - accuracy: 0.8817\n",
      "Epoch 28/40\n",
      "3/3 [==============================] - 0s 3ms/step - loss: 0.6610 - accuracy: 0.9247\n",
      "Epoch 29/40\n",
      "3/3 [==============================] - 0s 2ms/step - loss: 0.6524 - accuracy: 0.9140\n",
      "Epoch 30/40\n",
      "3/3 [==============================] - 0s 3ms/step - loss: 0.5866 - accuracy: 0.9570\n",
      "Epoch 31/40\n",
      "3/3 [==============================] - 0s 3ms/step - loss: 0.5951 - accuracy: 0.9892\n",
      "Epoch 32/40\n",
      "3/3 [==============================] - 0s 3ms/step - loss: 0.5745 - accuracy: 0.9462\n",
      "Epoch 33/40\n",
      "3/3 [==============================] - 0s 3ms/step - loss: 0.5495 - accuracy: 0.9677\n",
      "Epoch 34/40\n",
      "3/3 [==============================] - 0s 3ms/step - loss: 0.5175 - accuracy: 0.9462\n",
      "Epoch 35/40\n",
      "3/3 [==============================] - 0s 3ms/step - loss: 0.4655 - accuracy: 0.9462\n",
      "Epoch 36/40\n",
      "3/3 [==============================] - 0s 3ms/step - loss: 0.5195 - accuracy: 0.9247\n",
      "Epoch 37/40\n",
      "3/3 [==============================] - 0s 3ms/step - loss: 0.4008 - accuracy: 0.9785\n",
      "Epoch 38/40\n",
      "3/3 [==============================] - 0s 3ms/step - loss: 0.4320 - accuracy: 0.9892\n",
      "Epoch 39/40\n",
      "3/3 [==============================] - 0s 2ms/step - loss: 0.3670 - accuracy: 0.9677\n",
      "Epoch 40/40\n",
      "3/3 [==============================] - 0s 3ms/step - loss: 0.4487 - accuracy: 0.9355\n"
     ]
    }
   ],
   "source": [
    "from tensorflow.keras.models import Sequential\n",
    "from tensorflow.keras.layers import Dense, Dropout, Flatten\n",
    "from tensorflow.keras.optimizers import RMSprop, Adam\n",
    "from tensorflow.keras.callbacks import ModelCheckpoint\n",
    "from tensorflow.keras.utils import to_categorical\n",
    "from tensorflow.keras.losses import SparseCategoricalCrossentropy\n",
    "loss_fn = SparseCategoricalCrossentropy(from_logits=True)\n",
    "batch_size = 128\n",
    "epochs = 40\n",
    "\n",
    "simple_nn = Sequential()\n",
    "simple_nn.add(Flatten(input_shape=(4096,)))\n",
    "simple_nn.add(Dense(100, activation='relu'))\n",
    "simple_nn.add(Dropout(0.2))\n",
    "simple_nn.add(Dense(19, activation='softmax'))\n",
    "\n",
    "simple_nn.summary()\n",
    "\n",
    "simple_nn.compile(loss=loss_fn,\n",
    "              optimizer=Adam(),\n",
    "              metrics=['accuracy'])\n",
    "\n",
    "checkpoint = ModelCheckpoint('./saved_models', monitor = 'val_accuracy', verbose = 1, save_best_only=True)\n",
    "history = simple_nn.fit(train_features,y_train, epochs=epochs)"
   ]
  },
  {
   "cell_type": "code",
   "execution_count": 34,
   "metadata": {},
   "outputs": [
    {
     "name": "stdout",
     "output_type": "stream",
     "text": [
      "3/3 - 0s - loss: 0.8806 - accuracy: 0.7468 - 79ms/epoch - 26ms/step\n"
     ]
    },
    {
     "data": {
      "text/plain": [
       "[0.8805742859840393, 0.746835470199585]"
      ]
     },
     "execution_count": 34,
     "metadata": {},
     "output_type": "execute_result"
    }
   ],
   "source": [
    "simple_nn.evaluate(test_features,y_test,verbose=2)\n"
   ]
  },
  {
   "cell_type": "code",
   "execution_count": 35,
   "metadata": {},
   "outputs": [],
   "source": [
    "from tensorflow.keras.models import load_model\n",
    "\n",
    "simple_nn = load_model('./saved_models')"
   ]
  },
  {
   "cell_type": "markdown",
   "metadata": {},
   "source": []
  },
  {
   "cell_type": "code",
   "execution_count": 36,
   "metadata": {
    "Collapsed": "false"
   },
   "outputs": [
    {
     "ename": "ValueError",
     "evalue": "in user code:\n\n    File \"/Users/heejinchae/opt/anaconda3/envs/smallData/lib/python3.9/site-packages/keras/engine/training.py\", line 1366, in test_function  *\n        return step_function(self, iterator)\n    File \"/Users/heejinchae/opt/anaconda3/envs/smallData/lib/python3.9/site-packages/keras/engine/training.py\", line 1356, in step_function  **\n        outputs = model.distribute_strategy.run(run_step, args=(data,))\n    File \"/Users/heejinchae/opt/anaconda3/envs/smallData/lib/python3.9/site-packages/keras/engine/training.py\", line 1349, in run_step  **\n        outputs = model.test_step(data)\n    File \"/Users/heejinchae/opt/anaconda3/envs/smallData/lib/python3.9/site-packages/keras/engine/training.py\", line 1303, in test_step\n        y_pred = self(x, training=False)\n    File \"/Users/heejinchae/opt/anaconda3/envs/smallData/lib/python3.9/site-packages/keras/utils/traceback_utils.py\", line 67, in error_handler\n        raise e.with_traceback(filtered_tb) from None\n    File \"/Users/heejinchae/opt/anaconda3/envs/smallData/lib/python3.9/site-packages/keras/engine/input_spec.py\", line 263, in assert_input_compatibility\n        raise ValueError(f'Input {input_index} of layer \"{layer_name}\" is '\n\n    ValueError: Input 0 of layer \"sequential\" is incompatible with the layer: expected shape=(None, 119), found shape=(None, 4096)\n",
     "output_type": "error",
     "traceback": [
      "\u001b[0;31m---------------------------------------------------------------------------\u001b[0m",
      "\u001b[0;31mValueError\u001b[0m                                Traceback (most recent call last)",
      "Cell \u001b[0;32mIn [36], line 1\u001b[0m\n\u001b[0;32m----> 1\u001b[0m simple_nn\u001b[39m.\u001b[39;49mevaluate(test_features,y_test,verbose\u001b[39m=\u001b[39;49m\u001b[39m2\u001b[39;49m)\n\u001b[1;32m      2\u001b[0m y_pred_prob \u001b[39m=\u001b[39m simple_nn\u001b[39m.\u001b[39mpredict(test_features)\n\u001b[1;32m      3\u001b[0m print_model_metrics(y_test, y_pred_prob)\n",
      "File \u001b[0;32m~/opt/anaconda3/envs/smallData/lib/python3.9/site-packages/keras/utils/traceback_utils.py:67\u001b[0m, in \u001b[0;36mfilter_traceback.<locals>.error_handler\u001b[0;34m(*args, **kwargs)\u001b[0m\n\u001b[1;32m     65\u001b[0m \u001b[39mexcept\u001b[39;00m \u001b[39mException\u001b[39;00m \u001b[39mas\u001b[39;00m e:  \u001b[39m# pylint: disable=broad-except\u001b[39;00m\n\u001b[1;32m     66\u001b[0m   filtered_tb \u001b[39m=\u001b[39m _process_traceback_frames(e\u001b[39m.\u001b[39m__traceback__)\n\u001b[0;32m---> 67\u001b[0m   \u001b[39mraise\u001b[39;00m e\u001b[39m.\u001b[39mwith_traceback(filtered_tb) \u001b[39mfrom\u001b[39;00m \u001b[39mNone\u001b[39m\n\u001b[1;32m     68\u001b[0m \u001b[39mfinally\u001b[39;00m:\n\u001b[1;32m     69\u001b[0m   \u001b[39mdel\u001b[39;00m filtered_tb\n",
      "File \u001b[0;32m~/opt/anaconda3/envs/smallData/lib/python3.9/site-packages/tensorflow/python/framework/func_graph.py:1129\u001b[0m, in \u001b[0;36mfunc_graph_from_py_func.<locals>.autograph_handler\u001b[0;34m(*args, **kwargs)\u001b[0m\n\u001b[1;32m   1127\u001b[0m \u001b[39mexcept\u001b[39;00m \u001b[39mException\u001b[39;00m \u001b[39mas\u001b[39;00m e:  \u001b[39m# pylint:disable=broad-except\u001b[39;00m\n\u001b[1;32m   1128\u001b[0m   \u001b[39mif\u001b[39;00m \u001b[39mhasattr\u001b[39m(e, \u001b[39m\"\u001b[39m\u001b[39mag_error_metadata\u001b[39m\u001b[39m\"\u001b[39m):\n\u001b[0;32m-> 1129\u001b[0m     \u001b[39mraise\u001b[39;00m e\u001b[39m.\u001b[39mag_error_metadata\u001b[39m.\u001b[39mto_exception(e)\n\u001b[1;32m   1130\u001b[0m   \u001b[39melse\u001b[39;00m:\n\u001b[1;32m   1131\u001b[0m     \u001b[39mraise\u001b[39;00m\n",
      "\u001b[0;31mValueError\u001b[0m: in user code:\n\n    File \"/Users/heejinchae/opt/anaconda3/envs/smallData/lib/python3.9/site-packages/keras/engine/training.py\", line 1366, in test_function  *\n        return step_function(self, iterator)\n    File \"/Users/heejinchae/opt/anaconda3/envs/smallData/lib/python3.9/site-packages/keras/engine/training.py\", line 1356, in step_function  **\n        outputs = model.distribute_strategy.run(run_step, args=(data,))\n    File \"/Users/heejinchae/opt/anaconda3/envs/smallData/lib/python3.9/site-packages/keras/engine/training.py\", line 1349, in run_step  **\n        outputs = model.test_step(data)\n    File \"/Users/heejinchae/opt/anaconda3/envs/smallData/lib/python3.9/site-packages/keras/engine/training.py\", line 1303, in test_step\n        y_pred = self(x, training=False)\n    File \"/Users/heejinchae/opt/anaconda3/envs/smallData/lib/python3.9/site-packages/keras/utils/traceback_utils.py\", line 67, in error_handler\n        raise e.with_traceback(filtered_tb) from None\n    File \"/Users/heejinchae/opt/anaconda3/envs/smallData/lib/python3.9/site-packages/keras/engine/input_spec.py\", line 263, in assert_input_compatibility\n        raise ValueError(f'Input {input_index} of layer \"{layer_name}\" is '\n\n    ValueError: Input 0 of layer \"sequential\" is incompatible with the layer: expected shape=(None, 119), found shape=(None, 4096)\n"
     ]
    }
   ],
   "source": [
    "simple_nn.evaluate(test_features,y_test,verbose=2)\n",
    "y_pred_prob = simple_nn.predict(test_features)\n",
    "print_model_metrics(y_test, y_pred_prob)\n",
    "y_train = [idx_to_lbl[item] for item in y_train]\n",
    "y_test = [idx_to_lbl[item] for item in y_test]"
   ]
  },
  {
   "cell_type": "markdown",
   "metadata": {
    "Collapsed": "false"
   },
   "source": [
    "# Bagging"
   ]
  },
  {
   "cell_type": "markdown",
   "metadata": {
    "Collapsed": "false"
   },
   "source": [
    "Since SVM worked so well, we can try a bagging classifier by using SVM as a base estimator. This should improve the variance of the base model and reduce overfitting. "
   ]
  },
  {
   "cell_type": "code",
   "execution_count": null,
   "metadata": {
    "Collapsed": "false"
   },
   "outputs": [
    {
     "name": "stdout",
     "output_type": "stream",
     "text": [
      "F1: 0.964 | Pr: 0.955 | Re: 0.972 | AUC: 0.993 | Accuracy: 0.963 \n",
      "\n"
     ]
    }
   ],
   "source": [
    "from sklearn.ensemble import BaggingClassifier\n",
    "from sklearn.svm import SVC\n",
    "from sklearn.model_selection import RandomizedSearchCV\n",
    "\n",
    "svm = SVC(C = 10, kernel = 'poly', degree = 2, probability = True, verbose = 0)\n",
    "\n",
    "svm_bag = BaggingClassifier(svm, n_estimators = 200, max_features = 0.9, max_samples = 1.0, bootstrap_features = False, bootstrap = True, n_jobs = 1, verbose = 0)\n",
    "\n",
    "svm_bag.fit(train_features, y_train)\n",
    "y_test_prob = svm_bag.predict_proba(test_features)[:,1]\n",
    "print_model_metrics(y_test, y_test_prob)"
   ]
  },
  {
   "cell_type": "markdown",
   "metadata": {
    "Collapsed": "false"
   },
   "source": [
    "# Stacking Classifier"
   ]
  },
  {
   "cell_type": "markdown",
   "metadata": {
    "Collapsed": "false"
   },
   "source": [
    "Finally, one last thing we can try is the Stacking Classifier = basically a weighted average of the predictions of different models. Since we are using the fast ai tabular learner we wont be able to use Sklearn's `VotingClassifier` instead we'll just run a simple loop that gets the predictions of each model and runs a weighted average. "
   ]
  },
  {
   "cell_type": "code",
   "execution_count": null,
   "metadata": {
    "Collapsed": "false"
   },
   "outputs": [
    {
     "name": "stdout",
     "output_type": "stream",
     "text": [
      "Training LR\n",
      "Training SVM\n",
      "Training NB\n",
      "Training KNN\n",
      "Training RF\n",
      "Training XGB\n",
      "F1: 0.968 | Pr: 0.959 | Re: 0.977 | AUC: 0.995 | Accuracy: 0.967 \n",
      "\n"
     ]
    }
   ],
   "source": [
    "# Define all models \n",
    "from sklearn.ensemble import RandomForestClassifier\n",
    "from sklearn.neighbors import KNeighborsClassifier\n",
    "from sklearn.naive_bayes import MultinomialNB\n",
    "from xgboost import XGBClassifier\n",
    "from sklearn.svm import SVC\n",
    "from sklearn.linear_model import SGDClassifier\n",
    "\n",
    "lr = SGDClassifier(loss = 'log', alpha = 0.1, penalty = 'elasticnet')\n",
    "svm = SVC(C = 10, kernel = 'poly', degree = 2, probability = True)\n",
    "nb = MultinomialNB(alpha = 10000, class_prior = [0.5, 0.5])\n",
    "knn = KNeighborsClassifier(n_neighbors = 7, weights = 'distance', n_jobs = -1)\n",
    "rf = RandomForestClassifier(n_estimators = 250, min_samples_split = 5, max_depth = 15,  n_jobs = -1)\n",
    "xgb = XGBClassifier(n_estimators = 100, learning_rate = 0.3, max_depth = 1, n_jobs = -1)\n",
    "\n",
    "model_dict = dict(zip(['LR', 'SVM', 'NB', 'KNN', 'RF', 'XGB'], [lr, svm, nb, knn, rf, xgb]))\n",
    "\n",
    "for model_name, model in model_dict.items():\n",
    "    print('Training {}'.format(model_name))\n",
    "    model.fit(train_features, y_train)\n",
    "\n",
    "model_weights = {   'LR' : 0.9,\n",
    "                    'SVM' : 0.9,\n",
    "                    'NB' : 0.8,\n",
    "                    'KNN' : 0.75,\n",
    "                    'RF' : 0.75,\n",
    "                    'XGB' : 0.6,\n",
    "                    'simple_nn' : 0.7\n",
    "}\n",
    "\n",
    "y_pred_prob = 0\n",
    "\n",
    "for model_name, model in model_dict.items():\n",
    "    y_pred_prob += (model.predict_proba(test_features)[:,1] * model_weights[model_name])\n",
    "\n",
    "y_pred_prob += (simple_nn.predict(test_features.todense()).ravel() * model_weights['simple_nn'])\n",
    "y_pred_prob /= sum(model_weights.values())\n",
    "\n",
    "print_model_metrics(y_test, y_pred_prob)"
   ]
  },
  {
   "cell_type": "code",
   "execution_count": null,
   "metadata": {
    "Collapsed": "false"
   },
   "outputs": [],
   "source": [
    "def run_voting_clf(model_weights):\n",
    "    #result_list, model_weights = data\n",
    "    \n",
    "    y_pred_prob = 0\n",
    "\n",
    "    for model_name, model in model_dict.items():\n",
    "        y_pred_prob += (model.predict_proba(test_features)[:,1] * model_weights[model_name])\n",
    "\n",
    "    #y_pred_prob += (simple_nn.get_preds(ds_type = DatasetType.Valid)[0].numpy()[:,0] * model_weights['simple_nn'])\n",
    "    y_pred_prob += (simple_nn.predict(test_features.todense()).ravel() * model_weights['simple_nn'])\n",
    "    y_pred_prob /= sum(model_weights.values())\n",
    "    f1 = print_model_metrics(y_test, y_pred_prob, return_metrics = True, verbose = 0)[0]\n",
    "    return {'loss' : -f1, 'status' : STATUS_OK}"
   ]
  },
  {
   "cell_type": "code",
   "execution_count": null,
   "metadata": {
    "Collapsed": "false"
   },
   "outputs": [
    {
     "name": "stdout",
     "output_type": "stream",
     "text": [
      "100%|██████████| 500/500 [03:27<00:00,  2.41trial/s, best loss: -0.9725631048588247]\n"
     ]
    }
   ],
   "source": [
    "from hyperopt import fmin, tpe, hp, STATUS_OK, Trials\n",
    "\n",
    "trials = Trials()\n",
    "model_weights = fmin(run_voting_clf,\n",
    "    space= {\n",
    "        'LR' : hp.uniform('LR', 0, 1),\n",
    "        'SVM' : hp.uniform('SVM', 0, 1),\n",
    "        'NB' : hp.uniform('NB', 0, 1),\n",
    "        'KNN' : hp.uniform('KNN', 0, 1),\n",
    "        'RF' : hp.uniform('RF', 0, 1),\n",
    "        'XGB' : hp.uniform('XGB', 0, 1),\n",
    "        'simple_nn' : hp.uniform('simple_nn', 0, 1),\n",
    "\n",
    "\n",
    "    },\n",
    "    algo=tpe.suggest,\n",
    "    max_evals=500,\n",
    "    trials = trials)"
   ]
  },
  {
   "cell_type": "code",
   "execution_count": null,
   "metadata": {
    "Collapsed": "false"
   },
   "outputs": [],
   "source": [
    "model_weights = {'KNN': 0.7866810233035141,\n",
    " 'LR': 0.8036572275670447,\n",
    " 'NB': 0.9102009774357307,\n",
    " 'RF': 0.1559824350958057,\n",
    " 'SVM': 0.9355079606348642,\n",
    " 'XGB': 0.33469066125332436,\n",
    " 'simple_nn': 0.000545264707939086}"
   ]
  },
  {
   "cell_type": "code",
   "execution_count": null,
   "metadata": {
    "Collapsed": "false"
   },
   "outputs": [
    {
     "name": "stdout",
     "output_type": "stream",
     "text": [
      "F1: 0.968 | Pr: 0.960 | Re: 0.977 | AUC: 0.995 | Accuracy: 0.968 \n",
      "\n"
     ]
    },
    {
     "data": {
      "image/png": "[encoded data removed]",
      "text/plain": [
       "<Figure size 640x480 with 2 Axes>"
      ]
     },
     "metadata": {},
     "output_type": "display_data"
    }
   ],
   "source": [
    "y_pred_prob = 0\n",
    "for model_name, model in model_dict.items():\n",
    "    y_pred_prob += (model.predict_proba(test_features)[:,1] * model_weights[model_name])\n",
    "\n",
    "y_pred_prob += (simple_nn.predict(test_features.todense()).ravel() * model_weights['simple_nn'])\n",
    "y_pred_prob /= sum(model_weights.values())\n",
    "print_model_metrics(y_test, y_pred_prob, confusion = True)"
   ]
  },
  {
   "cell_type": "code",
   "execution_count": null,
   "metadata": {},
   "outputs": [],
   "source": [
    "precision, recall, threshold = precision_recall_curve(y_test, y_pred_prob, pos_label = 1)\n",
    "    \n",
    "#Find the threshold value that gives the best F1 Score\n",
    "best_f1_index =np.argmax([calc_f1(p_r) for p_r in zip(precision, recall)])\n",
    "best_threshold, best_precision, best_recall = threshold[best_f1_index], precision[best_f1_index], recall[best_f1_index]\n",
    "\n",
    "# Calulcate predictions based on the threshold value\n",
    "y_test_pred = np.where(y_test_prob > best_threshold, 1, 0)"
   ]
  },
  {
   "cell_type": "code",
   "execution_count": null,
   "metadata": {},
   "outputs": [],
   "source": [
    "misclassified_idx = y_test != y_test_pred\n",
    "high_confidence_indices = np.argsort(y_test_prob[misclassified_idx])[-10:]"
   ]
  },
  {
   "cell_type": "code",
   "execution_count": null,
   "metadata": {},
   "outputs": [
    {
     "name": "stdout",
     "output_type": "stream",
     "text": [
      "Title : A Putter That Provides Digital Instruction\n",
      "Label : not-clickbait\n",
      "Predicted Probability : 0.8632326356556083\n",
      "----------\n",
      "Title : The Cowboys Win a Wild One\n",
      "Label : not-clickbait\n",
      "Predicted Probability : 0.8791116327950125\n",
      "----------\n",
      "Title : Private Jets Lose That Feel-Good Factor\n",
      "Label : not-clickbait\n",
      "Predicted Probability : 0.8967078060487989\n",
      "----------\n",
      "Title : Male models win The Amazing Race\n",
      "Label : not-clickbait\n",
      "Predicted Probability : 0.8976823119079569\n",
      "----------\n",
      "Title : A Little Rugby With Your Cross-Dressing?\n",
      "Label : not-clickbait\n",
      "Predicted Probability : 0.90716076302164\n",
      "----------\n",
      "Title : Cellphone Abilities That Go Untapped\n",
      "Label : not-clickbait\n",
      "Predicted Probability : 0.9116531752723185\n",
      "----------\n",
      "Title : Darwinism Must Die So That Evolution May Live\n",
      "Label : not-clickbait\n",
      "Predicted Probability : 0.9138236285753103\n",
      "----------\n",
      "Title : Woods Returns as He Left: A Winner\n",
      "Label : not-clickbait\n",
      "Predicted Probability : 0.9141662468603614\n",
      "----------\n",
      "Title : A Peaking Tiger Woods\n",
      "Label : not-clickbait\n",
      "Predicted Probability : 0.916680805231468\n",
      "----------\n",
      "Title : Ainge Has Heart Attack After Celtics Say Garnett May Miss Playoffs\n",
      "Label : not-clickbait\n",
      "Predicted Probability : 0.9199661123342464\n",
      "----------\n"
     ]
    }
   ],
   "source": [
    "for idx in high_confidence_indices:\n",
    "    print('Title : {}'.format(test[misclassified_idx].title.values[idx]))\n",
    "    print('Label : {}'.format(test[misclassified_idx].label.values[idx]))\n",
    "    print('Predicted Probability : {}'.format(y_test_prob[misclassified_idx][idx]))\n",
    "    print('-' * 10)"
   ]
  },
  {
   "cell_type": "code",
   "execution_count": null,
   "metadata": {},
   "outputs": [
    {
     "data": {
      "text/plain": [
       "array(['A.I.G. Balks at Claims From US Airways Jet Ditched in Hudson',\n",
       "       'Avery, With Wolf Pack, Is Grateful to Be Playing Hockey Again',\n",
       "       'Red Sox Lose Another Road Game',\n",
       "       'ICC prosecutor seeks arrest of Sudanese president',\n",
       "       'Pelfrey and Mets Take Advantage of Sloppy Nationals',\n",
       "       'WMAQ reporter Amy Jacobson leaves job following controversial video',\n",
       "       'False dawn for Air France flight; debris not from crash, search continues',\n",
       "       'Severe storm hits United Kingdom in the early morning',\n",
       "       'An Unexpected Increase in Factory Orders',\n",
       "       \"Apaches accuse Prescott Bush of robbing Geronimo's grave\"],\n",
       "      dtype=object)"
      ]
     },
     "execution_count": 24,
     "metadata": {},
     "output_type": "execute_result"
    }
   ],
   "source": [
    "test[test.label.values == 'not-clickbait'].sample(10).title.values"
   ]
  },
  {
   "cell_type": "code",
   "execution_count": null,
   "metadata": {},
   "outputs": [],
   "source": []
  }
 ],
 "metadata": {
  "kernelspec": {
   "display_name": "Python 3.9.13 ('smallData')",
   "language": "python",
   "name": "python3"
  },
  "language_info": {
   "codemirror_mode": {
    "name": "ipython",
    "version": 3
   },
   "file_extension": ".py",
   "mimetype": "text/x-python",
   "name": "python",
   "nbconvert_exporter": "python",
   "pygments_lexer": "ipython3",
   "version": "3.9.13"
  },
  "vscode": {
   "interpreter": {
    "hash": "204ba388238a6e55b9feb9487e3d718d3b3259521e8492c709b3886a91f63210"
   }
  }
 },
 "nbformat": 4,
 "nbformat_minor": 4
}
